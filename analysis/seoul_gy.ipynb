{
 "cells": [
  {
   "cell_type": "code",
   "execution_count": 1,
   "metadata": {},
   "outputs": [],
   "source": [
    "import pandas as pd \n",
    "import os "
   ]
  },
  {
   "cell_type": "code",
   "execution_count": 2,
   "metadata": {},
   "outputs": [
    {
     "name": "stdout",
     "output_type": "stream",
     "text": [
      "23/02/28 21:16:34 WARN Utils: Your hostname, imhaneul-ui-MacBookPro.local resolves to a loopback address: 127.0.0.1; using 172.30.1.74 instead (on interface en0)\n",
      "23/02/28 21:16:34 WARN Utils: Set SPARK_LOCAL_IP if you need to bind to another address\n"
     ]
    },
    {
     "name": "stderr",
     "output_type": "stream",
     "text": [
      "Setting default log level to \"WARN\".\n",
      "To adjust logging level use sc.setLogLevel(newLevel). For SparkR, use setLogLevel(newLevel).\n"
     ]
    },
    {
     "name": "stdout",
     "output_type": "stream",
     "text": [
      "23/02/28 21:16:35 WARN NativeCodeLoader: Unable to load native-hadoop library for your platform... using builtin-java classes where applicable\n"
     ]
    }
   ],
   "source": [
    "from pyspark.sql import SparkSession\n",
    "\n",
    "spark = SparkSession.builder.appName(\"preprocessing\").getOrCreate()"
   ]
  },
  {
   "cell_type": "code",
   "execution_count": 3,
   "metadata": {},
   "outputs": [
    {
     "name": "stdout",
     "output_type": "stream",
     "text": [
      "/Users/imhaneul/Documents/project/BusStopPlace/SparkPreprocessing/analysis/data\n"
     ]
    },
    {
     "name": "stderr",
     "output_type": "stream",
     "text": [
      "                                                                                \r"
     ]
    }
   ],
   "source": [
    "directory = f\"{os.getcwd()}/data\"\n",
    "print(directory)\n",
    "sg = \"gyoung.csv\"\n",
    "bus = \"bus.csv\"\n",
    "\n",
    "sg_data = spark.read.csv(f\"{directory}/{sg}\", inferSchema=True, header=True)\n",
    "bus_data = spark.read.csv(f\"{directory}/{bus}\", inferSchema=True, header=True)\n",
    "\n",
    "sg_data = sg_data.createOrReplaceTempView(\"sg_data\")\n",
    "bus_data = bus_data.createOrReplaceTempView(\"bus_data\")"
   ]
  },
  {
   "cell_type": "code",
   "execution_count": 12,
   "metadata": {},
   "outputs": [
    {
     "data": {
      "text/html": [
       "<div>\n",
       "<style scoped>\n",
       "    .dataframe tbody tr th:only-of-type {\n",
       "        vertical-align: middle;\n",
       "    }\n",
       "\n",
       "    .dataframe tbody tr th {\n",
       "        vertical-align: top;\n",
       "    }\n",
       "\n",
       "    .dataframe thead th {\n",
       "        text-align: right;\n",
       "    }\n",
       "</style>\n",
       "<table border=\"1\" class=\"dataframe\">\n",
       "  <thead>\n",
       "    <tr style=\"text-align: right;\">\n",
       "      <th></th>\n",
       "      <th>id</th>\n",
       "      <th>city</th>\n",
       "      <th>name</th>\n",
       "      <th>gps_lati</th>\n",
       "      <th>gps_long</th>\n",
       "      <th>collected_at</th>\n",
       "    </tr>\n",
       "  </thead>\n",
       "  <tbody>\n",
       "    <tr>\n",
       "      <th>0</th>\n",
       "      <td>ICB163000077</td>\n",
       "      <td>인천광역시</td>\n",
       "      <td>학익사거리</td>\n",
       "      <td>37.442734</td>\n",
       "      <td>126.663838</td>\n",
       "      <td>2021/09/16 04:01:02</td>\n",
       "    </tr>\n",
       "    <tr>\n",
       "      <th>1</th>\n",
       "      <td>ICB163000078</td>\n",
       "      <td>인천광역시</td>\n",
       "      <td>법원검찰청입구</td>\n",
       "      <td>37.441503</td>\n",
       "      <td>126.668130</td>\n",
       "      <td>2021/09/16 04:01:02</td>\n",
       "    </tr>\n",
       "    <tr>\n",
       "      <th>2</th>\n",
       "      <td>ICB163000079</td>\n",
       "      <td>인천광역시</td>\n",
       "      <td>한양아파트</td>\n",
       "      <td>37.450492</td>\n",
       "      <td>126.638504</td>\n",
       "      <td>2021/09/16 04:01:02</td>\n",
       "    </tr>\n",
       "    <tr>\n",
       "      <th>3</th>\n",
       "      <td>ICB163000080</td>\n",
       "      <td>인천광역시</td>\n",
       "      <td>학익시장(법원검찰청)</td>\n",
       "      <td>37.442449</td>\n",
       "      <td>126.665103</td>\n",
       "      <td>2021/09/16 04:01:02</td>\n",
       "    </tr>\n",
       "    <tr>\n",
       "      <th>4</th>\n",
       "      <td>ICB163000081</td>\n",
       "      <td>인천광역시</td>\n",
       "      <td>gym80fitness</td>\n",
       "      <td>37.451758</td>\n",
       "      <td>126.634821</td>\n",
       "      <td>2021/09/16 04:01:02</td>\n",
       "    </tr>\n",
       "    <tr>\n",
       "      <th>...</th>\n",
       "      <td>...</td>\n",
       "      <td>...</td>\n",
       "      <td>...</td>\n",
       "      <td>...</td>\n",
       "      <td>...</td>\n",
       "      <td>...</td>\n",
       "    </tr>\n",
       "    <tr>\n",
       "      <th>55513</th>\n",
       "      <td>GGB277103271</td>\n",
       "      <td>성남시</td>\n",
       "      <td>성남IC출입(경유)</td>\n",
       "      <td>37.427200</td>\n",
       "      <td>127.125850</td>\n",
       "      <td>2021/09/16 04:30:05</td>\n",
       "    </tr>\n",
       "    <tr>\n",
       "      <th>55514</th>\n",
       "      <td>GGB277103272</td>\n",
       "      <td>성남시</td>\n",
       "      <td>성남TG(경유)</td>\n",
       "      <td>37.436533</td>\n",
       "      <td>127.122183</td>\n",
       "      <td>2021/09/16 04:30:05</td>\n",
       "    </tr>\n",
       "    <tr>\n",
       "      <th>55515</th>\n",
       "      <td>GGB277103273</td>\n",
       "      <td>성남시</td>\n",
       "      <td>성남TG(경유)</td>\n",
       "      <td>37.435083</td>\n",
       "      <td>127.123850</td>\n",
       "      <td>2021/09/16 04:30:04</td>\n",
       "    </tr>\n",
       "    <tr>\n",
       "      <th>55516</th>\n",
       "      <td>GGB277103274</td>\n",
       "      <td>하남시</td>\n",
       "      <td>하남JC(경유)</td>\n",
       "      <td>37.531067</td>\n",
       "      <td>127.195050</td>\n",
       "      <td>2021/09/16 04:30:05</td>\n",
       "    </tr>\n",
       "    <tr>\n",
       "      <th>55517</th>\n",
       "      <td>GGB277103275</td>\n",
       "      <td>하남시</td>\n",
       "      <td>하남JC(경유)</td>\n",
       "      <td>37.532200</td>\n",
       "      <td>127.195767</td>\n",
       "      <td>2021/09/16 04:30:04</td>\n",
       "    </tr>\n",
       "  </tbody>\n",
       "</table>\n",
       "<p>55518 rows × 6 columns</p>\n",
       "</div>"
      ],
      "text/plain": [
       "                 id   city          name   gps_lati    gps_long  \\\n",
       "0      ICB163000077  인천광역시         학익사거리  37.442734  126.663838   \n",
       "1      ICB163000078  인천광역시       법원검찰청입구  37.441503  126.668130   \n",
       "2      ICB163000079  인천광역시         한양아파트  37.450492  126.638504   \n",
       "3      ICB163000080  인천광역시   학익시장(법원검찰청)  37.442449  126.665103   \n",
       "4      ICB163000081  인천광역시  gym80fitness  37.451758  126.634821   \n",
       "...             ...    ...           ...        ...         ...   \n",
       "55513  GGB277103271    성남시    성남IC출입(경유)  37.427200  127.125850   \n",
       "55514  GGB277103272    성남시      성남TG(경유)  37.436533  127.122183   \n",
       "55515  GGB277103273    성남시      성남TG(경유)  37.435083  127.123850   \n",
       "55516  GGB277103274    하남시      하남JC(경유)  37.531067  127.195050   \n",
       "55517  GGB277103275    하남시      하남JC(경유)  37.532200  127.195767   \n",
       "\n",
       "              collected_at  \n",
       "0      2021/09/16 04:01:02  \n",
       "1      2021/09/16 04:01:02  \n",
       "2      2021/09/16 04:01:02  \n",
       "3      2021/09/16 04:01:02  \n",
       "4      2021/09/16 04:01:02  \n",
       "...                    ...  \n",
       "55513  2021/09/16 04:30:05  \n",
       "55514  2021/09/16 04:30:05  \n",
       "55515  2021/09/16 04:30:04  \n",
       "55516  2021/09/16 04:30:05  \n",
       "55517  2021/09/16 04:30:04  \n",
       "\n",
       "[55518 rows x 6 columns]"
      ]
     },
     "execution_count": 12,
     "metadata": {},
     "output_type": "execute_result"
    }
   ],
   "source": [
    "# \"\"\"\n",
    "# /Users/imhaneul/Documents/project/BusStopPlace/SparkPreprocessing/analysis/data\n",
    "# root\n",
    "#  |-- 정류장아이디: string (nullable = true)\n",
    "#  |-- 정류장 명칭: string (nullable = true)\n",
    "#  |-- 정류장 유형: double (nullable = true)\n",
    "#  |-- 중앙차로 여부: string (nullable = true)\n",
    "#  |-- 노드영문명: string (nullable = true)\n",
    "#  |-- 위도: double (nullable = true)\n",
    "#  |-- 경도: double (nullable = true)\n",
    "#  |-- 수집일시: string (nullable = true)\n",
    "#  |-- 단축아이디: double (nullable = true)\n",
    "#  |-- 도시코드: integer (nullable = true)\n",
    "#  |-- 도시명: string (nullable = true)\n",
    "#  |-- _c0: string (nullable = true)\n",
    "#     bus_data.`정류장아이디` as id,\n",
    "#     bus_data.`정류장 명칭`, as name,\n",
    "#     bus_data._c0 as location\n",
    "#\"\"\"\n",
    "qs = \"\"\"\n",
    "SELECT \n",
    "    `정류장아이디` as id,\n",
    "    sg_data.`도시명` as city,\n",
    "    `정류장 명칭` as name,\n",
    "    `위도` as gps_lati,\n",
    "    `경도` as gps_long,\n",
    "    `수집일시` as collected_at\n",
    "FROM \n",
    "    bus_data\n",
    "    JOIN\n",
    "        sg_data\n",
    "    ON\n",
    "        bus_data.`도시명` = sg_data.`도시명`\n",
    "\"\"\"\n",
    "sg = spark.sql(qs).toPandas()"
   ]
  },
  {
   "cell_type": "code",
   "execution_count": 5,
   "metadata": {},
   "outputs": [],
   "source": [
    "sg.to_csv(\"test.csv\", index=False, index_label=False)"
   ]
  },
  {
   "cell_type": "code",
   "execution_count": null,
   "metadata": {},
   "outputs": [],
   "source": []
  }
 ],
 "metadata": {
  "kernelspec": {
   "display_name": "base",
   "language": "python",
   "name": "python3"
  },
  "language_info": {
   "codemirror_mode": {
    "name": "ipython",
    "version": 3
   },
   "file_extension": ".py",
   "mimetype": "text/x-python",
   "name": "python",
   "nbconvert_exporter": "python",
   "pygments_lexer": "ipython3",
   "version": "3.10.6"
  },
  "orig_nbformat": 4,
  "vscode": {
   "interpreter": {
    "hash": "2516ec9dedd577fb6662378dc80c75bb748f265cb700a702aa389fbd4cb2ebee"
   }
  }
 },
 "nbformat": 4,
 "nbformat_minor": 2
}
