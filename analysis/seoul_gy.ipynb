{
 "cells": [
  {
   "cell_type": "code",
   "execution_count": 117,
   "metadata": {},
   "outputs": [],
   "source": [
    "import pandas as pd \n",
    "import os "
   ]
  },
  {
   "cell_type": "code",
   "execution_count": 118,
   "metadata": {},
   "outputs": [],
   "source": [
    "from pyspark.sql import SparkSession\n",
    "\n",
    "spark = SparkSession.builder.appName(\"preprocessing\").getOrCreate()"
   ]
  },
  {
   "cell_type": "code",
   "execution_count": 133,
   "metadata": {},
   "outputs": [
    {
     "name": "stdout",
     "output_type": "stream",
     "text": [
      "/Users/imhaneul/Documents/project/BusStopPlace/SparkPreprocessing/analysis/data\n"
     ]
    }
   ],
   "source": [
    "directory = f\"{os.getcwd()}/data\"\n",
    "print(directory)\n",
    "sg = \"gyoung.csv\"\n",
    "bus = \"bus.csv\"\n",
    "\n",
    "sg_data = spark.read.csv(f\"{directory}/{sg}\", inferSchema=True, header=True)\n",
    "bus_data = spark.read.csv(f\"{directory}/{bus}\", inferSchema=True, header=True)\n",
    "\n",
    "sg_data = sg_data.createOrReplaceTempView(\"sg_data\")\n",
    "bus_data = bus_data.createOrReplaceTempView(\"bus_data\")"
   ]
  },
  {
   "cell_type": "code",
   "execution_count": 146,
   "metadata": {},
   "outputs": [
    {
     "name": "stderr",
     "output_type": "stream",
     "text": [
      "                                                                                \r"
     ]
    }
   ],
   "source": [
    "# \"\"\"\n",
    "# /Users/imhaneul/Documents/project/BusStopPlace/SparkPreprocessing/analysis/data\n",
    "# root\n",
    "#  |-- 정류장아이디: string (nullable = true)\n",
    "#  |-- 정류장 명칭: string (nullable = true)\n",
    "#  |-- 정류장 유형: double (nullable = true)\n",
    "#  |-- 중앙차로 여부: string (nullable = true)\n",
    "#  |-- 노드영문명: string (nullable = true)\n",
    "#  |-- 위도: double (nullable = true)\n",
    "#  |-- 경도: double (nullable = true)\n",
    "#  |-- 수집일시: string (nullable = true)\n",
    "#  |-- 단축아이디: double (nullable = true)\n",
    "#  |-- 도시코드: integer (nullable = true)\n",
    "#  |-- 도시명: string (nullable = true)\n",
    "#  |-- _c0: string (nullable = true)\n",
    "#     bus_data.`정류장아이디` as id,\n",
    "#     bus_data.`정류장 명칭`, as name,\n",
    "#     bus_data._c0 as location\n",
    "#\"\"\"\n",
    "qs = \"\"\"\n",
    "SELECT \n",
    "    `정류장아이디`,\n",
    "    `정류장 명칭`,\n",
    "    `위도`,\n",
    "    `경도`,\n",
    "    `수집일시`,\n",
    "    `단축아이디`,\n",
    "    `도시코드`,\n",
    "    sg_data.`도시명`\n",
    "FROM \n",
    "    bus_data\n",
    "    JOIN\n",
    "        sg_data\n",
    "    ON\n",
    "        bus_data.`도시명` = sg_data.`도시명`\n",
    "\"\"\"\n",
    "sg = spark.sql(qs).toPandas()"
   ]
  },
  {
   "cell_type": "code",
   "execution_count": 150,
   "metadata": {},
   "outputs": [
    {
     "data": {
      "text/plain": [
       "'도시명'"
      ]
     },
     "execution_count": 150,
     "metadata": {},
     "output_type": "execute_result"
    }
   ],
   "source": [
    "sg.to_csv(\"test.csv\", index=False, index_label=False)"
   ]
  },
  {
   "cell_type": "code",
   "execution_count": null,
   "metadata": {},
   "outputs": [],
   "source": []
  }
 ],
 "metadata": {
  "kernelspec": {
   "display_name": "base",
   "language": "python",
   "name": "python3"
  },
  "language_info": {
   "codemirror_mode": {
    "name": "ipython",
    "version": 3
   },
   "file_extension": ".py",
   "mimetype": "text/x-python",
   "name": "python",
   "nbconvert_exporter": "python",
   "pygments_lexer": "ipython3",
   "version": "3.10.6"
  },
  "orig_nbformat": 4,
  "vscode": {
   "interpreter": {
    "hash": "2516ec9dedd577fb6662378dc80c75bb748f265cb700a702aa389fbd4cb2ebee"
   }
  }
 },
 "nbformat": 4,
 "nbformat_minor": 2
}
