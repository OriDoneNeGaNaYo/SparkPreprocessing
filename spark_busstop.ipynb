{
 "cells": [
  {
   "cell_type": "code",
   "execution_count": 1,
   "metadata": {},
   "outputs": [],
   "source": [
    "from pyspark.sql import SparkSession\n",
    "import os\n",
    "import pandas as pd"
   ]
  },
  {
   "cell_type": "code",
   "execution_count": 3,
   "metadata": {},
   "outputs": [],
   "source": [
    "spark: SparkSession = SparkSession.builder.appName(\"bus-stop\").getOrCreate()"
   ]
  },
  {
   "cell_type": "code",
   "execution_count": 12,
   "metadata": {},
   "outputs": [],
   "source": [
    "bus_df = spark.read.csv(f\"{os.getcwd()}/data/bus.csv\", inferSchema=True, header=True, encoding=\"utf-8\")\n",
    "bus_data = bus_df.createOrReplaceTempView(\"bus_data\")"
   ]
  },
  {
   "cell_type": "code",
   "execution_count": 26,
   "metadata": {},
   "outputs": [],
   "source": [
    "\"\"\"\n",
    "\n",
    "\"\"\"\n",
    "\n",
    "qs = \"\"\"\n",
    "SELECT \n",
    "    `정류장아이디` AS id,\n",
    "    `도시명` AS city,\n",
    "    `정류장 명칭` AS name,\n",
    "    `노드영문명` AS ename,\n",
    "    `위도` AS gps_lati,\n",
    "    `경도` AS gps_long,\n",
    "    `수집일시` AS collected_at\n",
    "FROM \n",
    "    bus_data\n",
    "\"\"\"\n",
    "spark.sql(qs).toPandas().to_csv(\"english_korea_busstop.csv\", index=False, index_label=False)"
   ]
  },
  {
   "cell_type": "code",
   "execution_count": null,
   "metadata": {},
   "outputs": [],
   "source": []
  }
 ],
 "metadata": {
  "kernelspec": {
   "display_name": "Python 3.10.6 ('base')",
   "language": "python",
   "name": "python3"
  },
  "language_info": {
   "codemirror_mode": {
    "name": "ipython",
    "version": 3
   },
   "file_extension": ".py",
   "mimetype": "text/x-python",
   "name": "python",
   "nbconvert_exporter": "python",
   "pygments_lexer": "ipython3",
   "version": "3.10.6"
  },
  "orig_nbformat": 4,
  "vscode": {
   "interpreter": {
    "hash": "2516ec9dedd577fb6662378dc80c75bb748f265cb700a702aa389fbd4cb2ebee"
   }
  }
 },
 "nbformat": 4,
 "nbformat_minor": 2
}
